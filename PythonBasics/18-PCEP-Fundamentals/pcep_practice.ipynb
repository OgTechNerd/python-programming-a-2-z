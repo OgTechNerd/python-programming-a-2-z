{
 "cells": [
  {
   "attachments": {},
   "cell_type": "markdown",
   "metadata": {},
   "source": [
    "#   **PCEP : Python Certified Entry Level Programmer (PCEP-30-02)**  #\n",
    "<img src=\"download1.jpeg\" alt=\"Drawing\" style=\"width: 200px;\"/>\n",
    "<img src=\"download2.jpeg\" alt=\"Drawing\" style=\"width: 200px;\"/>\n",
    "\n",
    "PCEP™ – Certified Entry-Level Python Programmer certification (Exam PCEP-30-0x) is a professional credential that measures the candidate's ability to accomplish coding tasks related to the essentials of programming in the Python language. A test candidate should demonstrate sufficient knowledge of the universal concepts of computer programming, the syntax and semantics of the Python language, as well as the skills in resolving typical implementation challenges with the help of the Python Standard Library.\n",
    "\n",
    "The PCEP™ certification shows that the individual is familiar with the following concepts: fundamental terms and definitions (e.g. compilation vs. interpretation), Python's logic and structure (e.g. keywords, instructions, indentation), literals, variables, and numeral systems, operators and data types, I/O operations, control flow mechanisms (conditional blocks and loops), data collections (lists, tuples, dictionaries, strings), functions (decomposition, built-in and user-defined functions, organizing interaction between functions and their environment, generators, recursion), exceptions (exception handling, hierarchies), as well as the essentials of Python programming language syntax, semantics, and the runtime environment.\n",
    "\n",
    "## **Python Certification Path** : ##\n",
    "* General-Purpose Programming (PCEP™, PCAP™, PCPP1™, and PCPP2™ exams) :\n",
    "\n",
    "     1. PCEP  --> Python Certified Entry Level  Python Programmer\n",
    "     2. PCAP  --> Python Certified Associate in Python Programming \n",
    "     3. PCPP1 --> Python Certified Professional in Python Programming 1\n",
    "     4. PCPP2 --> Python Certified Professional in Python Programming 2\n",
    "     <br>\n",
    "     </br>\n",
    "     \n",
    "* Testing (PCAT™ exam)\n",
    "\n",
    "* Data Analytics (PCAD™ exam)\n",
    "\n",
    "Link : https://pythoninstitute.org/pcep\n",
    "\n",
    "## **PCEP Syllabus :** ## \n",
    "Link: https://pythoninstitute.org/assets/627e61bc29de3989767095.pdf\n",
    "\n",
    "### **Section 1: Computer Programming and Python : Fundamentals (18%)** ###\n",
    "\n",
    "#### PCEP-30-02 1.1 – Understand fundamental terms and definitions ####\n",
    "* interpreting and the interpreter, compilation and the compiler\n",
    "* lexis, syntax, and semantics\n",
    "\n",
    "#### PCEP-30-02 1.2 – Understand Python’s logic and structure ####\n",
    "* keywords\n",
    "* instructions\n",
    "* indentation\n",
    "* comments\n",
    "\n",
    "#### PCEP-30-02 1.3 – Introduce literals and variables into code and use different numeral systems ####\n",
    "* Boolean, integers, floating-point numbers\n",
    "* scientific notation\n",
    "* strings\n",
    "* binary, octal, decimal, and hexadecimal numeral systems\n",
    "* variables\n",
    "* naming conventions\n",
    "* implementing PEP-8 recommendations\n",
    "#### PCEP-30-02 1.4 – Choose operators and data types adequate to the problem ####\n",
    "* numeric operators: ** * / % // + –\n",
    "* string operators: * +\n",
    "* assignment and shortcut operators\n",
    "* unary and binary operators\n",
    "* priorities and binding\n",
    "* bitwise operators: ~ & ^ | << >>\n",
    "* Boolean operators: not, and, or\n",
    "* Boolean expressions\n",
    "* relational operators ( == != > >= < <= )\n",
    "* the accuracy of floating-point numbers\n",
    "* type casting\n",
    "#### PCEP-30-02 1.5 – Perform Input/Output console operations ####\n",
    "* the print() and input() functions\n",
    "* the sep= and end= keyword parameters\n",
    "* the int() and float() functions\n",
    "\n",
    "### **Section 2: Control Flow – Conditional Blocks and Loops: (29%)** ###\n",
    "#### PCEP-30-02 2.1 – Make decisions and branch the flow with ####\n",
    "the if instruction\n",
    "* conditional statements: if, if-else, if-elif, if-elif-else\n",
    "* multiple conditional statements\n",
    "* nesting conditional statements\n",
    "#### PCEP-30-02 2.2 – Perform different types of iterations ####\n",
    "* the pass instruction\n",
    "* building loops with while, for, range(), and in\n",
    "* iterating through sequences\n",
    "* expanding loops with while-else and for-else\n",
    "* nesting loops and conditional statements\n",
    "* controlling loop execution with break and continue\n",
    "\n",
    "### **Section 3: Data Collections – Tuples, Dictionaries, Lists, and Strings (25%)** ###\n",
    "\n",
    "#### PCEP-30-02 3.1 – Collect and process data using lists ####\n",
    "* constructing vectors\n",
    "* indexing and slicing\n",
    "* the len() function\n",
    "* list methods: append(), insert(), index(), etc.\n",
    "* functions: len(), sorted()\n",
    "* the del instruction\n",
    "* iterating through lists with the for loop\n",
    "* initializing loops\n",
    "#### PCEP-30-02 3.2 – Collect and process data using tuples ####\n",
    "* tuples: indexing, slicing, building, immutability\n",
    "* tuples vs. lists: similarities and differences\n",
    "* lists inside tuples and tuples inside lists\n",
    "#### PCEP-30-02 3.3 Collect and process data using dictionaries ####\n",
    "* dictionaries: building, indexing, adding and removing keys\n",
    "* iterating through dictionaries and their keys and values\n",
    "* checking the existence of keys\n",
    "* methods: keys(), items(), and values()\n",
    "#### PCEP-30-02 3.4 Operate with strings ####\n",
    "* constructing strings\n",
    "* indexing, slicing, immutability\n",
    "* escaping using the \\ character\n",
    "* quotes and apostrophes inside strings\n",
    "* multi-line strings\n",
    "* basic string functions and methods\n",
    "\n",
    "\n",
    "### **Section 4: Functions and Exceptions (28%)** ###\n",
    "\n",
    "#### PCEP-30-02 4.1 – Decompose the code using functions : ####\n",
    "* defining and invoking user-defined functions and generators\n",
    "* the return keyword, returning results\n",
    "* the None keyword\n",
    "* recursion\n",
    "\n",
    "#### PCEP-30-02 4.2 – Organize interaction between the function and its environment : ####\n",
    "* parameters vs. arguments\n",
    "* positional, keyword, and mixed argument passing\n",
    "* default parameter values\n",
    "* name scopes, name hiding (shadowing), and the global keyword\n",
    "\n",
    "#### PCEP-30-02 4.3 – Python Built-In Exceptions Hierarchy : ####\n",
    "* BaseException\n",
    "* Exception\n",
    "* SystemExit\n",
    "* KeyboardInterrupt\n",
    "* abstract exceptions\n",
    "* ArithmeticError\n",
    "* LookupError\n",
    "* IndexError\n",
    "* KeyError\n",
    "* TypeError\n",
    "* ValueError\n",
    "\n",
    "#### PCEP-30-02 4.4 – Basics of Python Exception Handling : ####\n",
    "* try-except / the try-except Exception\n",
    "* ordering the except branches\n",
    "* propagating exceptions through function boundaries\n",
    "* delegating responsibility for handling exceptions"
   ]
  },
  {
   "attachments": {},
   "cell_type": "markdown",
   "metadata": {},
   "source": [
    "Section 4: Function and Exception"
   ]
  },
  {
   "cell_type": "code",
   "execution_count": 73,
   "metadata": {},
   "outputs": [
    {
     "name": "stdout",
     "output_type": "stream",
     "text": [
      "Hi shaun\n"
     ]
    }
   ],
   "source": [
    "\n",
    "# Example 1\n",
    "def greet(name): # name is an parameter\n",
    "    # name=str(input(\"what is your name ?:\")) \n",
    "    print(\"Hi \" + name)\n",
    "greet(\"shaun\") # shaun is an argument"
   ]
  },
  {
   "cell_type": "code",
   "execution_count": 74,
   "metadata": {},
   "outputs": [
    {
     "name": "stdout",
     "output_type": "stream",
     "text": [
      "40.666666666666664\n",
      "17.5\n"
     ]
    }
   ],
   "source": [
    "# Example 2\n",
    "def cal_avg(list=[12, 23]): # default value of list is [12, 23]\n",
    "    sum=0\n",
    "    for item in list:\n",
    "        sum+=item\n",
    "    return (sum/len(list))\n",
    "def cal_avg_no_param(list): \n",
    "    sum=0\n",
    "    for item in list:\n",
    "        sum+=item\n",
    "    return (sum/len(list))\n",
    "\n",
    "print(cal_avg([22,55,45])) # default value gets replaces with argument \n",
    "print(cal_avg())\n",
    "#cal_avg_no_param()    # uncomment line : TypeError: cal_avg_no_param() missing 1 required positional argument: 'list' --> This give TypeError as there is no argument type list specified.\n",
    "#cal_avg_no_param(4)   # uncomment line : TypeError: 'int' object is not iterable --> The argument type is invalid  as it exepcts a list not a int.                                                                                                                                                                                                                                                                                                                                                                                                                          \n"
   ]
  },
  {
   "cell_type": "code",
   "execution_count": 75,
   "metadata": {},
   "outputs": [
    {
     "name": "stdout",
     "output_type": "stream",
     "text": [
      "No of i in pneumonoultramicroscopicsilicovolcanoconiosis is 6\n",
      "No of e in Pseudopseudohypoparathyroidism is 2\n"
     ]
    }
   ],
   "source": [
    "# Example 3\n",
    "def print_letter_count( text, letter): # function has positional params\n",
    "    counter = 0\n",
    "    for char in text:\n",
    "        if char == letter :\n",
    "            counter += 1\n",
    "    print('No of', letter, 'in', text, 'is', counter)\n",
    "\n",
    "print_letter_count ('pneumonoultramicroscopicsilicovolcanoconiosis', 'i')\n",
    "print_letter_count ('Pseudopseudohypoparathyroidism', 'e')"
   ]
  },
  {
   "cell_type": "code",
   "execution_count": 76,
   "metadata": {},
   "outputs": [
    {
     "name": "stdout",
     "output_type": "stream",
     "text": [
      "{'Anne', 'John', 'Mark'}\n",
      "{1, 4, 5}\n"
     ]
    }
   ],
   "source": [
    "def unique_func(list):\n",
    "    unique_list=set(list)\n",
    "    return unique_list\n",
    "    \n",
    "print(unique_func(['Mark','Mark','John','Anne']))\n",
    "print(unique_func([1,1,4,5,1]))"
   ]
  },
  {
   "cell_type": "code",
   "execution_count": 77,
   "metadata": {},
   "outputs": [
    {
     "name": "stdout",
     "output_type": "stream",
     "text": [
      "[5, 6, 9]\n"
     ]
    }
   ],
   "source": [
    "def unique(input_list=[]):\n",
    "  to_return = []\n",
    "  for el in input_list:\n",
    "    if el not in to_return:\n",
    "      to_return.append(el)\n",
    "  return to_return\n",
    "print(unique([5,6,9,9,6,]))"
   ]
  },
  {
   "cell_type": "code",
   "execution_count": 78,
   "metadata": {},
   "outputs": [
    {
     "name": "stdout",
     "output_type": "stream",
     "text": [
      "first loop  5\n",
      "second loop 2\n",
      "5\n",
      "first loop  6\n",
      "second loop 2\n",
      "second loop 3\n",
      "second loop 4\n",
      "second loop 5\n",
      "6\n",
      "first loop  7\n",
      "second loop 2\n",
      "7\n",
      "first loop  8\n",
      "second loop 2\n",
      "second loop 3\n",
      "second loop 4\n",
      "second loop 5\n",
      "second loop 6\n",
      "second loop 7\n",
      "8\n"
     ]
    }
   ],
   "source": [
    "#exam Question\n",
    "for num in range(5, 9):\n",
    "   print(\"first loop \", num)\n",
    "   for i in range(2, num):\n",
    "       print(\"second loop\", i)\n",
    "       if num%i == 1:\n",
    "          print(num)\n",
    "          break"
   ]
  },
  {
   "cell_type": "code",
   "execution_count": 79,
   "metadata": {},
   "outputs": [
    {
     "name": "stdout",
     "output_type": "stream",
     "text": [
      "5\n"
     ]
    }
   ],
   "source": [
    "list1 = [1, 2, 3, 4, 5]\n",
    "for i in list1:\n",
    "    if i==5:\n",
    "        print(i)"
   ]
  },
  {
   "cell_type": "code",
   "execution_count": 80,
   "metadata": {},
   "outputs": [
    {
     "name": "stdout",
     "output_type": "stream",
     "text": [
      "[4, 1, 2]\n",
      "[9, 8, 7, 2, 2]\n"
     ]
    }
   ],
   "source": [
    "list1 = [0, 3, 4, 1, 2]\n",
    "lis2 = [ 9 , 8 , 7 , 6 , 5, 3]\n",
    "lis2[3:6]=[2,2]\n",
    "print(list1[2:5])\n",
    "print(lis2)"
   ]
  },
  {
   "cell_type": "code",
   "execution_count": 10,
   "metadata": {},
   "outputs": [
    {
     "name": "stdout",
     "output_type": "stream",
     "text": [
      "[2]\n",
      "[2, 3, 4]\n",
      "[2]\n",
      "[1, 5]\n",
      "[1, 4]\n",
      "[2, 3, 4, 5]\n",
      "['likes', 'base', 'jazz', 'pop', 'rock']\n",
      "['base', 'jazz', 'pop', 'rock']\n",
      "['baby', 'base', 'pop']\n",
      "['baby', 'jazz']\n",
      "['likes', 'rock']\n",
      "['baby', 'likes', 'base', 'jazz']\n",
      "['likes', 'base', 'jazz', 'pop', 'rock']\n"
     ]
    }
   ],
   "source": [
    "list5=[1,2,3,4,5]\n",
    "list7=[\"baby\", \"likes\", \"base\", \"jazz\", \"pop\", \"rock\"]\n",
    "list8=[\"ryan\", \"lemon\", \"ginger\", \"tea\", \"cookie\"]\n",
    "print(list5[1:2])\n",
    "print(list5[1:4])\n",
    "print(list5[1::4])\n",
    "print(list5[::4])\n",
    "print(list5[::3])\n",
    "print(list5[1::])\n",
    "print(list7[1::]) # eliminates 1st index\n",
    "print(list7[2::]) # eliminates 2nd index\n",
    "print(list7[::2]) # eliminates every 2nd element \n",
    "print(list7[::3]) # eliminates all elements except 4th element and first element\n",
    "print(list7[1::4]) # eliminates all element exceppt 5th element and first element\n",
    "print(list7[:-2])\n",
    "print(list7[1::1])\n",
    "\n"
   ]
  },
  {
   "cell_type": "code",
   "execution_count": 82,
   "metadata": {},
   "outputs": [
    {
     "data": {
      "text/plain": [
       "299"
      ]
     },
     "execution_count": 82,
     "metadata": {},
     "output_type": "execute_result"
    }
   ],
   "source": [
    "type(0o11)\n",
    "int(0o11)\n",
    "int(0x12b)"
   ]
  },
  {
   "cell_type": "code",
   "execution_count": 7,
   "metadata": {},
   "outputs": [
    {
     "name": "stdout",
     "output_type": "stream",
     "text": [
      "[4, 1, 2]\n",
      "[4]\n",
      "[0, 3, 8, 9, 6]\n"
     ]
    }
   ],
   "source": [
    "list1 = [0, 3, 4, 1, 2, 6 ]\n",
    "print(list1[2:5])\n",
    "print(list1[2::5])\n",
    "list1[2:5]=[8,9]\n",
    "print(list1)"
   ]
  },
  {
   "cell_type": "code",
   "execution_count": 8,
   "metadata": {},
   "outputs": [
    {
     "name": "stdout",
     "output_type": "stream",
     "text": [
      "[[[0, 1, 2], [0, 1, 2], [0, 1, 2]], [[0, 1, 2], [0, 1, 2], [0, 1, 2]], [[0, 1, 2], [0, 1, 2], [0, 1, 2]]]\n"
     ]
    }
   ],
   "source": [
    "matrix = [[[k for k in range(3)] for j in range(3)] for i in range(3)]\n",
    "print(matrix)"
   ]
  },
  {
   "cell_type": "code",
   "execution_count": 16,
   "metadata": {},
   "outputs": [
    {
     "name": "stdout",
     "output_type": "stream",
     "text": [
      "[[0, 1, 2], [0, 1, 2], [0, 1, 2]]\n",
      "2\n"
     ]
    }
   ],
   "source": [
    "matrix = [[j for j in range(3)] for i in range(3)] \n",
    "print(matrix)\n",
    "print(matrix[1][2])"
   ]
  },
  {
   "cell_type": "code",
   "execution_count": 84,
   "metadata": {},
   "outputs": [
    {
     "data": {
      "text/plain": [
       "0"
      ]
     },
     "execution_count": 84,
     "metadata": {},
     "output_type": "execute_result"
    }
   ],
   "source": [
    "6%2"
   ]
  },
  {
   "attachments": {},
   "cell_type": "markdown",
   "metadata": {},
   "source": [
    "Slicing a list in python "
   ]
  },
  {
   "cell_type": "code",
   "execution_count": 85,
   "metadata": {},
   "outputs": [
    {
     "name": "stdout",
     "output_type": "stream",
     "text": [
      "Example:1--> ['dravid', 'laxman']\n",
      "Example:2--> ['dravid']\n",
      "Example:3--> []\n",
      "Example:4--> ['sachin', 'dravid', 'laxman']\n",
      "Example:5--> ['sachin', 'dravid', 'laxman', 'ganguly']\n",
      "Example:6--> ['sachin', 'ganguly']\n",
      "Example:7--> ['ganguly', 'laxman', 'dravid', 'sachin']\n",
      "Example:8--> ['ganguly', 'dravid']\n",
      "Example:9--> ['ganguly', 'sachin']\n"
     ]
    }
   ],
   "source": [
    "list = [\"sachin\", \"dravid\", \"laxman\", \"ganguly\"]\n",
    "\n",
    "\n",
    "print(\"Example:1--> \"+str(list[1:3]))\n",
    "print(\"Example:2--> \"+str(list[1:2]))\n",
    "print(\"Example:3--> \"+str(list[1:1]))\n",
    "print(\"Example:4--> \"+str(list[0:3]))\n",
    "print(\"Example:5--> \"+str(list[::1]))\n",
    "print(\"Example:6--> \"+str(list[::3]))\n",
    "\n",
    "print(\"Example:7--> \"+str(list[::-1]))\n",
    "print(\"Example:8--> \"+str(list[::-2]))\n",
    "print(\"Example:9--> \"+str(list[::-3]))\n"
   ]
  },
  {
   "cell_type": "code",
   "execution_count": 86,
   "metadata": {},
   "outputs": [
    {
     "name": "stdout",
     "output_type": "stream",
     "text": [
      "[[0, 1, 2, 3], [0, 1, 2, 3], [0, 1, 2, 3], [0, 1, 2, 3]]\n",
      "1\n"
     ]
    }
   ],
   "source": [
    "matrix = [[j for j in range(4)] for i in range(4)] \n",
    "print(matrix)\n",
    "print(matrix[3][1])"
   ]
  },
  {
   "cell_type": "code",
   "execution_count": 87,
   "metadata": {},
   "outputs": [
    {
     "data": {
      "text/plain": [
       "False"
      ]
     },
     "execution_count": 87,
     "metadata": {},
     "output_type": "execute_result"
    }
   ],
   "source": [
    "(4, 6)  in [(4, 7), (5, 6), \"hello\"]"
   ]
  },
  {
   "cell_type": "code",
   "execution_count": 88,
   "metadata": {},
   "outputs": [
    {
     "name": "stdout",
     "output_type": "stream",
     "text": [
      "(2, 4)\n"
     ]
    }
   ],
   "source": [
    "tup = (1, 2, 4, 8)\n",
    "tup = tup[1:-1]\n",
    "#tup = tup[1]\n",
    "print(tup)"
   ]
  },
  {
   "cell_type": "code",
   "execution_count": 89,
   "metadata": {},
   "outputs": [
    {
     "name": "stdout",
     "output_type": "stream",
     "text": [
      "1\n"
     ]
    }
   ],
   "source": [
    "print(1 | 0 ^ 1 & ~0)"
   ]
  },
  {
   "cell_type": "code",
   "execution_count": 90,
   "metadata": {},
   "outputs": [
    {
     "name": "stdout",
     "output_type": "stream",
     "text": [
      "4\n"
     ]
    }
   ],
   "source": [
    "print(0o1 + 0b1 + 0x1 + 1)"
   ]
  },
  {
   "cell_type": "code",
   "execution_count": 91,
   "metadata": {},
   "outputs": [
    {
     "name": "stdout",
     "output_type": "stream",
     "text": [
      "['Surprise!']\n",
      "['New Surprise!']\n",
      "['Surprise!']\n"
     ]
    }
   ],
   "source": [
    "def show_truth():\n",
    "    mysterious_var = ['New Surprise!']\n",
    "    print(mysterious_var)\n",
    " \n",
    "mysterious_var = ['Surprise!']\n",
    "print(mysterious_var)\n",
    "show_truth()\n",
    "print(mysterious_var)"
   ]
  },
  {
   "cell_type": "code",
   "execution_count": 92,
   "metadata": {},
   "outputs": [
    {
     "name": "stdout",
     "output_type": "stream",
     "text": [
      "[1, 2, 3]\n",
      "[1, 2, 4]\n",
      "[1, 2, 4]\n"
     ]
    }
   ],
   "source": [
    "list_g=[1, 2, 3]\n",
    "def func_change():\n",
    "    list_g[2]=4\n",
    "    print(list_g)\n",
    "\n",
    "print (list_g)\n",
    "func_change()\n",
    "print (list_g)"
   ]
  },
  {
   "cell_type": "code",
   "execution_count": 93,
   "metadata": {},
   "outputs": [
    {
     "name": "stdout",
     "output_type": "stream",
     "text": [
      "[[3, 2], [3, 2], [3, 2]]\n"
     ]
    }
   ],
   "source": [
    "temp = [[3 - i for i in range(2)] for j in range(3)] \n",
    "print(temp)"
   ]
  },
  {
   "cell_type": "code",
   "execution_count": 94,
   "metadata": {},
   "outputs": [
    {
     "data": {
      "text/plain": [
       "2"
      ]
     },
     "execution_count": 94,
     "metadata": {},
     "output_type": "execute_result"
    }
   ],
   "source": [
    "6//4\n",
    "10//5"
   ]
  },
  {
   "attachments": {},
   "cell_type": "markdown",
   "metadata": {},
   "source": [
    "Append And Insert Methods and other usecases"
   ]
  },
  {
   "cell_type": "code",
   "execution_count": 95,
   "metadata": {},
   "outputs": [
    {
     "name": "stdout",
     "output_type": "stream",
     "text": [
      "['sachin', 'dravid', 'laxman', 'ganguly', 'kohli']\n"
     ]
    }
   ],
   "source": [
    "list.append(\"kohli\")\n",
    "print(list)"
   ]
  },
  {
   "cell_type": "code",
   "execution_count": 96,
   "metadata": {},
   "outputs": [
    {
     "name": "stdout",
     "output_type": "stream",
     "text": [
      "['sachin', 'dravid', 'gambhir', 'laxman', 'ganguly', 'dhoni', 'kohli']\n"
     ]
    }
   ],
   "source": [
    "list.insert(2,\"gambhir\")\n",
    "list.insert(5,\"dhoni\")\n",
    "print(list)"
   ]
  },
  {
   "attachments": {},
   "cell_type": "markdown",
   "metadata": {},
   "source": [
    "Sort and Reverse a list with list Methods"
   ]
  },
  {
   "cell_type": "code",
   "execution_count": 97,
   "metadata": {},
   "outputs": [
    {
     "name": "stdout",
     "output_type": "stream",
     "text": [
      "NewList Created :['sachin', 'dravid', 'gambhir', 'laxman', 'ganguly', 'dhoni', 'kohli']\n",
      "Sorted Order:['dhoni', 'dravid', 'gambhir', 'ganguly', 'kohli', 'laxman', 'sachin']\n",
      "Reversed Order:['sachin', 'laxman', 'kohli', 'ganguly', 'gambhir', 'dravid', 'dhoni']\n"
     ]
    }
   ],
   "source": [
    "batting_order=[]\n",
    "batting_order.extend(list)\n",
    "print(\"NewList Created :\"+str(batting_order))\n",
    "batting_order.sort()\n",
    "print(\"Sorted Order:\"+str(batting_order))\n",
    "batting_order.reverse()\n",
    "print(\"Reversed Order:\"+str(batting_order))\n"
   ]
  },
  {
   "attachments": {},
   "cell_type": "markdown",
   "metadata": {},
   "source": [
    "Swapping position in list"
   ]
  },
  {
   "cell_type": "code",
   "execution_count": 98,
   "metadata": {},
   "outputs": [
    {
     "name": "stdout",
     "output_type": "stream",
     "text": [
      "New Batting Order['sachin', 'sehwag', 'laxman', 'kohli', 'ganguly', 'gambhir', 'dravid', 'dhoni']\n",
      "sachin --> 0\n",
      "sehwag --> 1\n",
      "laxman --> 2\n",
      "kohli --> 3\n",
      "ganguly --> 4\n",
      "gambhir --> 5\n",
      "dravid --> 6\n",
      "dhoni --> 7\n",
      "Swapped dhoni & laxman & kohli and dravid :['sachin', 'sehwag', 'dhoni', 'dravid', 'ganguly', 'gambhir', 'kohli', 'laxman']\n",
      "sachin --> 0\n",
      "sehwag --> 1\n",
      "dhoni --> 2\n",
      "dravid --> 3\n",
      "ganguly --> 4\n",
      "gambhir --> 5\n",
      "kohli --> 6\n",
      "laxman --> 7\n"
     ]
    }
   ],
   "source": [
    "new_batting_order=['sachin', 'laxman', 'kohli', 'ganguly', 'gambhir', 'dravid', 'dhoni']\n",
    "new_batting_order.insert(1,\"sehwag\")\n",
    "print(\"New Batting Order\"+str(new_batting_order))\n",
    "for i in new_batting_order:\n",
    "    print(str(i) + \" --> \" +str(new_batting_order.index(i)))\n",
    "\n",
    "new_batting_order[2] , new_batting_order[7] , new_batting_order[3], new_batting_order[6] = new_batting_order[7] , new_batting_order[2] , new_batting_order[6] , new_batting_order[3]\n",
    "print(\"Swapped dhoni & laxman & kohli and dravid :\" + str(new_batting_order))\n",
    "for i in new_batting_order:\n",
    "    print(str(i) + \" --> \" +str(new_batting_order.index(i)))"
   ]
  },
  {
   "attachments": {},
   "cell_type": "markdown",
   "metadata": {},
   "source": [
    "## **Exam Practice Mock** ##\n"
   ]
  },
  {
   "cell_type": "code",
   "execution_count": 99,
   "metadata": {},
   "outputs": [
    {
     "name": "stdout",
     "output_type": "stream",
     "text": [
      "['Surprise!']\n",
      "['New Surprise!']\n",
      "['Surprise!']\n"
     ]
    }
   ],
   "source": [
    "# What will be the output of the following snippet?\n",
    "\n",
    "def show_truth():\n",
    "    mysterious_var = ['New Surprise!']\n",
    "    print(mysterious_var)\n",
    " \n",
    "mysterious_var = ['Surprise!']\n",
    "print(mysterious_var)\n",
    "show_truth()\n",
    "print(mysterious_var)"
   ]
  },
  {
   "cell_type": "code",
   "execution_count": 18,
   "metadata": {},
   "outputs": [
    {
     "name": "stdout",
     "output_type": "stream",
     "text": [
      "[3, 2, 1]\n"
     ]
    }
   ],
   "source": [
    "# What will happen with the list after the following operation?\n",
    "\n",
    "nums = [1, 2, 3]\n",
    "nums[0], nums[2] = nums[2], nums[0]\n",
    "print(nums)"
   ]
  },
  {
   "cell_type": "code",
   "execution_count": null,
   "metadata": {},
   "outputs": [
    {
     "name": "stdout",
     "output_type": "stream",
     "text": [
      "3\n"
     ]
    }
   ],
   "source": [
    "# What will be the output of the following code?\n",
    "\n",
    "x = 4\n",
    "y = 5\n",
    "z = 3\n",
    "print(x == y or z)"
   ]
  },
  {
   "cell_type": "code",
   "execution_count": 3,
   "metadata": {},
   "outputs": [
    {
     "name": "stdout",
     "output_type": "stream",
     "text": [
      "222\n"
     ]
    }
   ],
   "source": [
    "# What will be the output of the following code when the user enters 2 and then 3?\n",
    "\n",
    "x = input()\n",
    "y = int(input())\n",
    "print(x * y)"
   ]
  },
  {
   "cell_type": "code",
   "execution_count": 2,
   "metadata": {},
   "outputs": [
    {
     "name": "stdout",
     "output_type": "stream",
     "text": [
      "True\n",
      "False\n"
     ]
    }
   ],
   "source": [
    "# What will be the output of the following code?\n",
    "\n",
    "def check(x):\n",
    "    if (x[0] == x[-1]):\n",
    "        return True\n",
    "    else:\n",
    "        return False\n",
    " \n",
    "print(check([10, 20, 30, 40, 10]))\n",
    "print(check([40, 20, 30, 40, 10]))"
   ]
  },
  {
   "cell_type": "code",
   "execution_count": 4,
   "metadata": {},
   "outputs": [
    {
     "name": "stdout",
     "output_type": "stream",
     "text": [
      "4\n"
     ]
    }
   ],
   "source": [
    "# What will be the output after the following code snippet?\n",
    "\n",
    "tup = (1, 2, 4, 8)\n",
    "tup = tup[1:-1]\n",
    "tup = tup[1]\n",
    "print(tup)"
   ]
  },
  {
   "cell_type": "code",
   "execution_count": 5,
   "metadata": {},
   "outputs": [
    {
     "name": "stdout",
     "output_type": "stream",
     "text": [
      "False\n"
     ]
    }
   ],
   "source": [
    "# What will be the output of the following code snippet?\n",
    "\n",
    "dict1 = {'one': 1, 'two': 2, 'three': 3}\n",
    "dict2 = {'one': 1, 'two': 5, 'four': 8}\n",
    "dict3 = dict(dict1)\n",
    "dict4 = dict(dict2)\n",
    "dict3.update(dict2)\n",
    "dict4.update(dict1)\n",
    "print(dict3 == dict4)"
   ]
  },
  {
   "cell_type": "code",
   "execution_count": 6,
   "metadata": {},
   "outputs": [
    {
     "name": "stdout",
     "output_type": "stream",
     "text": [
      "3\n"
     ]
    }
   ],
   "source": [
    "# What will be the output of the following code snippet?\n",
    "\n",
    "def func(x):\n",
    "        if x:\n",
    "                print('1')\n",
    "        elif x is False:\n",
    "                print('2')\n",
    "        else:\n",
    "                print('3')\n",
    " \n",
    "func(None)"
   ]
  },
  {
   "cell_type": "code",
   "execution_count": 7,
   "metadata": {},
   "outputs": [
    {
     "name": "stdout",
     "output_type": "stream",
     "text": [
      "1\n"
     ]
    }
   ],
   "source": [
    "# What will be the output of the following code?\n",
    "\n",
    "print(1 | 0 ^ 1 & ~0)"
   ]
  },
  {
   "cell_type": "code",
   "execution_count": null,
   "metadata": {},
   "outputs": [],
   "source": [
    "# What will be the output of the following code?\n",
    "\n",
    "def myfunc():\n",
    "        print(num + 1, end='')\n",
    " \n",
    "num = 5\n",
    "myfunc()\n",
    "print(num)"
   ]
  },
  {
   "cell_type": "code",
   "execution_count": 8,
   "metadata": {},
   "outputs": [
    {
     "name": "stdout",
     "output_type": "stream",
     "text": [
      "32 28\n"
     ]
    }
   ],
   "source": [
    "# What will be the output after the following code snippet?\n",
    "\n",
    "age = 30\n",
    "new_age = age\n",
    "new_age -= 2\n",
    "age += 2\n",
    "print(age, new_age)"
   ]
  },
  {
   "cell_type": "code",
   "execution_count": 9,
   "metadata": {},
   "outputs": [
    {
     "name": "stdout",
     "output_type": "stream",
     "text": [
      "1\n",
      "2\n",
      "4\n"
     ]
    }
   ],
   "source": [
    "# What will be the output of the following code?\n",
    "\n",
    "for a in range(1, 3):\n",
    "        for b in range(1, 3):\n",
    "                if a > b:\n",
    "                        continue\n",
    "                else:\n",
    "                        print(a * b)"
   ]
  },
  {
   "cell_type": "code",
   "execution_count": 10,
   "metadata": {},
   "outputs": [
    {
     "name": "stdout",
     "output_type": "stream",
     "text": [
      "6\n"
     ]
    }
   ],
   "source": [
    "# What will be the output of the following code?\n",
    "\n",
    "def boo(x):\n",
    "        if x == 1:\n",
    "                return x\n",
    "        return x * boo(x-1)\n",
    " \n",
    "print(boo(3))"
   ]
  },
  {
   "cell_type": "code",
   "execution_count": 11,
   "metadata": {},
   "outputs": [
    {
     "name": "stdout",
     "output_type": "stream",
     "text": [
      "-15.25\n"
     ]
    }
   ],
   "source": [
    "# What will be the output after this code snippet?\n",
    "\n",
    "print(5 - 3 ** 4 / 4)"
   ]
  },
  {
   "cell_type": "code",
   "execution_count": 12,
   "metadata": {},
   "outputs": [
    {
     "name": "stdout",
     "output_type": "stream",
     "text": [
      "False\n"
     ]
    }
   ],
   "source": [
    "# What will be the output of the following code?\n",
    "\n",
    "x = [\n",
    "    'a',\n",
    "    'b',\n",
    "    {\n",
    "        'one': 1,\n",
    "        'two':\n",
    "        {\n",
    "            'x' : 10,\n",
    "            'y' : 20,\n",
    "            'z' : 30\n",
    "        },\n",
    "        'three': 3\n",
    "    },\n",
    "    'c',\n",
    "    'd'\n",
    "]\n",
    "print(30 in x[2])"
   ]
  },
  {
   "cell_type": "code",
   "execution_count": 13,
   "metadata": {},
   "outputs": [
    {
     "name": "stdout",
     "output_type": "stream",
     "text": [
      "@\n",
      "@\n",
      "@\n"
     ]
    }
   ],
   "source": [
    "# How many at signs (@) will be printed after the following code snippet?\n",
    "\n",
    "a = 0\n",
    "while a <= 5:\n",
    "        a += 2\n",
    "        print('@')"
   ]
  },
  {
   "cell_type": "code",
   "execution_count": null,
   "metadata": {},
   "outputs": [],
   "source": [
    "# Which of the following statement(s) is/are true?\n",
    "\n",
    "list1 = [1, 2, 3]\n",
    "list2 = list1[-3:-1]"
   ]
  },
  {
   "cell_type": "code",
   "execution_count": null,
   "metadata": {},
   "outputs": [],
   "source": [
    "#How many times will the x sign be printed?\n",
    "\n",
    "for a in range(1,3):\n",
    "        for b in range(1, 8):\n",
    "                if a == b:\n",
    "                        print('x')"
   ]
  },
  {
   "cell_type": "code",
   "execution_count": null,
   "metadata": {},
   "outputs": [],
   "source": [
    "# What will be the output after the following code snippet?\n",
    "\n",
    "temp = [[3 - i for i in range(2)] for j in range(3)] \n",
    "print(temp)"
   ]
  },
  {
   "attachments": {},
   "cell_type": "markdown",
   "metadata": {},
   "source": [
    "## **BITWISE OPERATOR** ## "
   ]
  },
  {
   "attachments": {},
   "cell_type": "markdown",
   "metadata": {},
   "source": [
    "OPERATOR   \tNAME\t            DESCRIPTION\t                                                                                SYNTAX\n",
    "\n",
    "&\t    Bitwise AND\t            Result bit 1,if both operand bits are 1;otherwise results bit 0.\t                        x & y\n",
    "|\t    Bitwise OR\t            Result bit 1,if any of the operand bit is 1; otherwise results bit 0.\t                    x | y\n",
    "~\t    Bitwise NOT\t            inverts individual bits\t                                                                    ~x\n",
    "^\t    Bitwise XOR\t            Results bit 1,if any of the operand bit is 1 but not both, otherwise results bit 0.         x ^ y\n",
    ">>\t    Bitwise right shift\t    The left operand’s value is moved toward right by the number of bits                        x>>\n",
    "                                specified by the right operand.\n",
    "<<      Bitwise left shift      The left operand’s value is moved toward left by the number of bits                         x<<\n",
    "                                specified by the right operand.\n"
   ]
  },
  {
   "cell_type": "code",
   "execution_count": 15,
   "metadata": {},
   "outputs": [
    {
     "name": "stdout",
     "output_type": "stream",
     "text": [
      "5\n",
      "15\n"
     ]
    }
   ],
   "source": [
    "print(5 & 7)\n",
    "# Binary 5  =    0000 0101\n",
    "# Binary 7  =    0000 0111\n",
    "# 5 & 7     =    0000 0101 # Decimal 5 \n",
    "\n",
    "print(6 | 9)\n",
    "\n",
    "# Binary 6 = 0000 0110\n",
    "# Binary 9 = 0000 1001\n",
    "# 6 | 9    = 0000 1111 # Decimal 15\n"
   ]
  },
  {
   "cell_type": "code",
   "execution_count": 1,
   "metadata": {},
   "outputs": [
    {
     "name": "stdout",
     "output_type": "stream",
     "text": [
      "b\n"
     ]
    }
   ],
   "source": [
    "try:\n",
    "  val = int(input('Provide a number: '))\n",
    "  print(val/val)\n",
    "except TypeError:\n",
    "  print('a')\n",
    "except ValueError:\n",
    "  print('b')\n",
    "except ZeroDivisionError:\n",
    "  print('c')\n",
    "except:\n",
    "  print('d')"
   ]
  },
  {
   "cell_type": "code",
   "execution_count": 3,
   "metadata": {},
   "outputs": [
    {
     "name": "stdout",
     "output_type": "stream",
     "text": [
      "4\n",
      "537\n"
     ]
    }
   ],
   "source": [
    "print(0o1 + 0b1 + 0x1 + 1)\n",
    "print(0o1010 +0X11)"
   ]
  },
  {
   "cell_type": "code",
   "execution_count": 15,
   "metadata": {},
   "outputs": [
    {
     "name": "stdout",
     "output_type": "stream",
     "text": [
      "8\n",
      "12\n",
      "10\n",
      "144\n",
      "216\n",
      "3\n"
     ]
    }
   ],
   "source": [
    "def rectangleArea(width, height , length=4):\n",
    "    return width * height *length\n",
    "\n",
    "print(rectangleArea(1, 2, 4))\n",
    "print(rectangleArea(width=1, height=2, length=6))\n",
    "print(rectangleArea( height=2, length=5, width=1))\n",
    "print(rectangleArea(6, 6))\n",
    "print(rectangleArea(6, 6, 6))\n",
    "\n",
    "def func(x):\n",
    "    if x:\n",
    "        print('1')\n",
    "    elif x is False:\n",
    "        print('2')\n",
    "    else:\n",
    "        print('3')\n",
    "func(None)\n",
    "\n",
    "# print(rectangleArea(width=6, 6)) --> SyntaxError: positional argument follows keyword argument"
   ]
  },
  {
   "cell_type": "code",
   "execution_count": 23,
   "metadata": {},
   "outputs": [
    {
     "name": "stdout",
     "output_type": "stream",
     "text": [
      "[3, 6]\n"
     ]
    }
   ],
   "source": [
    "numbers=[1, 2 , 3 , 4 , 5 ,6 , 7 , 8]\n",
    "even_numbers = [num for num in numbers if not num % 3]\n",
    "print(even_numbers)"
   ]
  },
  {
   "cell_type": "code",
   "execution_count": 3,
   "metadata": {},
   "outputs": [
    {
     "name": "stdout",
     "output_type": "stream",
     "text": [
      "5\n",
      "0.0\n",
      "0.0\n"
     ]
    }
   ],
   "source": [
    "print(2//2*2+3)\n",
    "print(2/-3*6+4)\n",
    "print(3**2//3/3 -1)"
   ]
  },
  {
   "cell_type": "code",
   "execution_count": 4,
   "metadata": {},
   "outputs": [
    {
     "name": "stdout",
     "output_type": "stream",
     "text": [
      "###\n"
     ]
    }
   ],
   "source": [
    "floor = 10\n",
    "while floor !=0:\n",
    "    floor //=4\n",
    "    print(\"#\", end=\"\")\n",
    "else :\n",
    "    print(\"#\")"
   ]
  },
  {
   "cell_type": "code",
   "execution_count": 8,
   "metadata": {},
   "outputs": [
    {
     "name": "stdout",
     "output_type": "stream",
     "text": [
      "3\n"
     ]
    }
   ],
   "source": [
    "total=0\n",
    "for i in range(4):\n",
    "    if 2*i<4:\n",
    "        total+=1\n",
    "else:\n",
    "    total+=1\n",
    "print(total)"
   ]
  },
  {
   "cell_type": "code",
   "execution_count": 10,
   "metadata": {},
   "outputs": [
    {
     "name": "stdout",
     "output_type": "stream",
     "text": [
      "1\n"
     ]
    }
   ],
   "source": [
    "equals=0\n",
    "for i in range(2):\n",
    "    for j in range(2):\n",
    "        if i==j:\n",
    "            equals+=1\n",
    "        else:\n",
    "            break\n",
    "print(equals)"
   ]
  },
  {
   "cell_type": "code",
   "execution_count": 12,
   "metadata": {},
   "outputs": [
    {
     "name": "stdout",
     "output_type": "stream",
     "text": [
      "42\n",
      "300000000.0\n"
     ]
    }
   ],
   "source": [
    "print(84//2)\n",
    "du=[2, 3, 2]\n",
    "co=[2,3]\n",
    "print(3e8)"
   ]
  }
 ],
 "metadata": {
  "kernelspec": {
   "display_name": "Python 3",
   "language": "python",
   "name": "python3"
  },
  "language_info": {
   "codemirror_mode": {
    "name": "ipython",
    "version": 3
   },
   "file_extension": ".py",
   "mimetype": "text/x-python",
   "name": "python",
   "nbconvert_exporter": "python",
   "pygments_lexer": "ipython3",
   "version": "3.11.3"
  },
  "orig_nbformat": 4
 },
 "nbformat": 4,
 "nbformat_minor": 2
}
